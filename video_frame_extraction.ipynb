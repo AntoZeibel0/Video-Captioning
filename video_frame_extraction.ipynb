{
 "cells": [
  {
   "cell_type": "code",
   "execution_count": 2,
   "id": "24d432a0-a053-4378-9852-0ea3a8ce76b2",
   "metadata": {},
   "outputs": [],
   "source": [
    "import cv2\n",
    "import os\n",
    "import pandas as pd\n",
    "from tqdm import tqdm\n",
    "from sklearn.model_selection import train_test_split"
   ]
  },
  {
   "cell_type": "markdown",
   "id": "9d5ec600-a404-4972-9afb-a720b4d3d3b5",
   "metadata": {},
   "source": [
    "### Data Loading and Cleaning\n",
    "<blockquote>Clean up the \"video_corpus.csv\" file which contains the annotations, and the <strong>bos</strong> and <strong>eos</strong>.</blockquote>\n",
    "<blockquote>The \"annotations.txt\" only contains the video_id and the associated annotation. The difference between this file and the \"video_corpus.csv\" file is that the latter one also contains annotations in other languages than English.</blockquote>\n",
    "<blockquote>Therefore, the \"video_corpus.csv\" will contain only the English annotations after the cleaning process.</blockquote>"
   ]
  },
  {
   "cell_type": "code",
   "execution_count": 2,
   "id": "5214bac9-4aee-4640-a5a3-f695191d2781",
   "metadata": {},
   "outputs": [
    {
     "data": {
      "text/html": [
       "<div>\n",
       "<style scoped>\n",
       "    .dataframe tbody tr th:only-of-type {\n",
       "        vertical-align: middle;\n",
       "    }\n",
       "\n",
       "    .dataframe tbody tr th {\n",
       "        vertical-align: top;\n",
       "    }\n",
       "\n",
       "    .dataframe thead th {\n",
       "        text-align: right;\n",
       "    }\n",
       "</style>\n",
       "<table border=\"1\" class=\"dataframe\">\n",
       "  <thead>\n",
       "    <tr style=\"text-align: right;\">\n",
       "      <th></th>\n",
       "      <th>VideoID</th>\n",
       "      <th>Start</th>\n",
       "      <th>End</th>\n",
       "      <th>WorkerID</th>\n",
       "      <th>Source</th>\n",
       "      <th>AnnotationTime</th>\n",
       "      <th>Language</th>\n",
       "      <th>Description</th>\n",
       "    </tr>\n",
       "  </thead>\n",
       "  <tbody>\n",
       "    <tr>\n",
       "      <th>0</th>\n",
       "      <td>mv89psg6zh4</td>\n",
       "      <td>33</td>\n",
       "      <td>46</td>\n",
       "      <td>588702</td>\n",
       "      <td>unverified</td>\n",
       "      <td>55</td>\n",
       "      <td>Slovene</td>\n",
       "      <td>Papagaj se umiva pod tekočo vodo v lijaku.</td>\n",
       "    </tr>\n",
       "    <tr>\n",
       "      <th>1</th>\n",
       "      <td>mv89psg6zh4</td>\n",
       "      <td>33</td>\n",
       "      <td>46</td>\n",
       "      <td>588702</td>\n",
       "      <td>unverified</td>\n",
       "      <td>37</td>\n",
       "      <td>Slovene</td>\n",
       "      <td>Papagaj se umiva pod tekočo vodo v lijaku.</td>\n",
       "    </tr>\n",
       "    <tr>\n",
       "      <th>2</th>\n",
       "      <td>mv89psg6zh4</td>\n",
       "      <td>33</td>\n",
       "      <td>46</td>\n",
       "      <td>362812</td>\n",
       "      <td>unverified</td>\n",
       "      <td>11</td>\n",
       "      <td>Macedonian</td>\n",
       "      <td>папагал се бања</td>\n",
       "    </tr>\n",
       "    <tr>\n",
       "      <th>3</th>\n",
       "      <td>mv89psg6zh4</td>\n",
       "      <td>33</td>\n",
       "      <td>46</td>\n",
       "      <td>968828</td>\n",
       "      <td>unverified</td>\n",
       "      <td>84</td>\n",
       "      <td>German</td>\n",
       "      <td>Ein Wellensittich duscht unter einem Wasserhahn.</td>\n",
       "    </tr>\n",
       "    <tr>\n",
       "      <th>4</th>\n",
       "      <td>mv89psg6zh4</td>\n",
       "      <td>33</td>\n",
       "      <td>46</td>\n",
       "      <td>203142</td>\n",
       "      <td>unverified</td>\n",
       "      <td>14</td>\n",
       "      <td>Romanian</td>\n",
       "      <td>o pasare sta intr-o chiuveta.</td>\n",
       "    </tr>\n",
       "  </tbody>\n",
       "</table>\n",
       "</div>"
      ],
      "text/plain": [
       "       VideoID  Start  End  WorkerID      Source  AnnotationTime    Language  \\\n",
       "0  mv89psg6zh4     33   46    588702  unverified              55     Slovene   \n",
       "1  mv89psg6zh4     33   46    588702  unverified              37     Slovene   \n",
       "2  mv89psg6zh4     33   46    362812  unverified              11  Macedonian   \n",
       "3  mv89psg6zh4     33   46    968828  unverified              84      German   \n",
       "4  mv89psg6zh4     33   46    203142  unverified              14    Romanian   \n",
       "\n",
       "                                        Description  \n",
       "0        Papagaj se umiva pod tekočo vodo v lijaku.  \n",
       "1        Papagaj se umiva pod tekočo vodo v lijaku.  \n",
       "2                                   папагал се бања  \n",
       "3  Ein Wellensittich duscht unter einem Wasserhahn.  \n",
       "4                     o pasare sta intr-o chiuveta.  "
      ]
     },
     "execution_count": 2,
     "metadata": {},
     "output_type": "execute_result"
    }
   ],
   "source": [
    "video_corpus_df = pd.read_csv(\"data/video_corpus.csv\")\n",
    "video_corpus_df.head()"
   ]
  },
  {
   "cell_type": "code",
   "execution_count": 3,
   "id": "c1f51380-122f-4a45-912f-296b20773056",
   "metadata": {},
   "outputs": [
    {
     "name": "stdout",
     "output_type": "stream",
     "text": [
      "There are 122604 annotations in the 'video_corpus.csv', but only 85511 English annotations.\n"
     ]
    }
   ],
   "source": [
    "print(f\"There are {len(video_corpus_df)} annotations in the 'video_corpus.csv', but only {len(video_corpus_df[video_corpus_df[\"Language\"] == \"English\"])} English annotations.\")"
   ]
  },
  {
   "cell_type": "code",
   "execution_count": 4,
   "id": "1ab2fb6b-8f97-4d3b-a7ae-1cc182641d89",
   "metadata": {},
   "outputs": [
    {
     "data": {
      "text/html": [
       "<div>\n",
       "<style scoped>\n",
       "    .dataframe tbody tr th:only-of-type {\n",
       "        vertical-align: middle;\n",
       "    }\n",
       "\n",
       "    .dataframe tbody tr th {\n",
       "        vertical-align: top;\n",
       "    }\n",
       "\n",
       "    .dataframe thead th {\n",
       "        text-align: right;\n",
       "    }\n",
       "</style>\n",
       "<table border=\"1\" class=\"dataframe\">\n",
       "  <thead>\n",
       "    <tr style=\"text-align: right;\">\n",
       "      <th></th>\n",
       "      <th>VideoID</th>\n",
       "      <th>Start</th>\n",
       "      <th>End</th>\n",
       "      <th>WorkerID</th>\n",
       "      <th>Source</th>\n",
       "      <th>AnnotationTime</th>\n",
       "      <th>Language</th>\n",
       "      <th>Description</th>\n",
       "    </tr>\n",
       "  </thead>\n",
       "  <tbody>\n",
       "    <tr>\n",
       "      <th>18</th>\n",
       "      <td>mv89psg6zh4</td>\n",
       "      <td>33</td>\n",
       "      <td>46</td>\n",
       "      <td>682611</td>\n",
       "      <td>clean</td>\n",
       "      <td>66</td>\n",
       "      <td>English</td>\n",
       "      <td>A bird in a sink keeps getting under the runni...</td>\n",
       "    </tr>\n",
       "    <tr>\n",
       "      <th>19</th>\n",
       "      <td>mv89psg6zh4</td>\n",
       "      <td>33</td>\n",
       "      <td>46</td>\n",
       "      <td>760882</td>\n",
       "      <td>clean</td>\n",
       "      <td>16</td>\n",
       "      <td>English</td>\n",
       "      <td>A bird is bathing in a sink.</td>\n",
       "    </tr>\n",
       "    <tr>\n",
       "      <th>20</th>\n",
       "      <td>mv89psg6zh4</td>\n",
       "      <td>33</td>\n",
       "      <td>46</td>\n",
       "      <td>878566</td>\n",
       "      <td>clean</td>\n",
       "      <td>76</td>\n",
       "      <td>English</td>\n",
       "      <td>A bird is splashing around under a running fau...</td>\n",
       "    </tr>\n",
       "    <tr>\n",
       "      <th>21</th>\n",
       "      <td>mv89psg6zh4</td>\n",
       "      <td>33</td>\n",
       "      <td>46</td>\n",
       "      <td>707318</td>\n",
       "      <td>clean</td>\n",
       "      <td>14</td>\n",
       "      <td>English</td>\n",
       "      <td>A bird is bathing in a sink.</td>\n",
       "    </tr>\n",
       "    <tr>\n",
       "      <th>22</th>\n",
       "      <td>mv89psg6zh4</td>\n",
       "      <td>33</td>\n",
       "      <td>46</td>\n",
       "      <td>135621</td>\n",
       "      <td>clean</td>\n",
       "      <td>58</td>\n",
       "      <td>English</td>\n",
       "      <td>A bird is standing in a sink drinking water th...</td>\n",
       "    </tr>\n",
       "  </tbody>\n",
       "</table>\n",
       "</div>"
      ],
      "text/plain": [
       "        VideoID  Start  End  WorkerID Source  AnnotationTime Language  \\\n",
       "18  mv89psg6zh4     33   46    682611  clean              66  English   \n",
       "19  mv89psg6zh4     33   46    760882  clean              16  English   \n",
       "20  mv89psg6zh4     33   46    878566  clean              76  English   \n",
       "21  mv89psg6zh4     33   46    707318  clean              14  English   \n",
       "22  mv89psg6zh4     33   46    135621  clean              58  English   \n",
       "\n",
       "                                          Description  \n",
       "18  A bird in a sink keeps getting under the runni...  \n",
       "19                       A bird is bathing in a sink.  \n",
       "20  A bird is splashing around under a running fau...  \n",
       "21                       A bird is bathing in a sink.  \n",
       "22  A bird is standing in a sink drinking water th...  "
      ]
     },
     "execution_count": 4,
     "metadata": {},
     "output_type": "execute_result"
    }
   ],
   "source": [
    "indexLanguage = video_corpus_df[video_corpus_df['Language'] != \"English\"].index\n",
    "video_corpus_df.drop(indexLanguage , inplace=True)\n",
    "video_corpus_df.head()"
   ]
  },
  {
   "cell_type": "code",
   "execution_count": 5,
   "id": "44d51399-7106-4700-a6a9-30f8a896158a",
   "metadata": {},
   "outputs": [
    {
     "data": {
      "text/plain": [
       "array(['clean', 'unverified'], dtype=object)"
      ]
     },
     "execution_count": 5,
     "metadata": {},
     "output_type": "execute_result"
    }
   ],
   "source": [
    "video_corpus_df[\"Source\"].unique()"
   ]
  },
  {
   "cell_type": "code",
   "execution_count": 6,
   "id": "732644b3-13e8-4033-8bff-39281444ec46",
   "metadata": {},
   "outputs": [
    {
     "name": "stdout",
     "output_type": "stream",
     "text": [
      "Count of each Source:\n",
      "Source\n",
      "unverified    51673\n",
      "clean         33838\n",
      "Name: count, dtype: int64\n",
      "\n",
      "Proportion of each Source:\n",
      "Source\n",
      "unverified    0.604285\n",
      "clean         0.395715\n",
      "Name: proportion, dtype: float64\n"
     ]
    }
   ],
   "source": [
    "source_counts = video_corpus_df[\"Source\"].value_counts()\n",
    "source_proportions = video_corpus_df[\"Source\"].value_counts(normalize=True)\n",
    "\n",
    "print(\"Count of each Source:\")\n",
    "print(source_counts)\n",
    "\n",
    "print(\"\\nProportion of each Source:\")\n",
    "print(source_proportions)"
   ]
  },
  {
   "cell_type": "code",
   "execution_count": 7,
   "id": "adda8c2b-12c5-4839-ab65-3ac7afc3d0af",
   "metadata": {},
   "outputs": [],
   "source": [
    "video_corpus_df = video_corpus_df.drop(columns=['AnnotationTime', 'Language', 'WorkerID'])"
   ]
  },
  {
   "cell_type": "code",
   "execution_count": 8,
   "id": "6bfa7553-bb2e-48d5-9a66-3472c3fe367c",
   "metadata": {},
   "outputs": [
    {
     "data": {
      "text/html": [
       "<div>\n",
       "<style scoped>\n",
       "    .dataframe tbody tr th:only-of-type {\n",
       "        vertical-align: middle;\n",
       "    }\n",
       "\n",
       "    .dataframe tbody tr th {\n",
       "        vertical-align: top;\n",
       "    }\n",
       "\n",
       "    .dataframe thead th {\n",
       "        text-align: right;\n",
       "    }\n",
       "</style>\n",
       "<table border=\"1\" class=\"dataframe\">\n",
       "  <thead>\n",
       "    <tr style=\"text-align: right;\">\n",
       "      <th></th>\n",
       "      <th>VideoID</th>\n",
       "      <th>Start</th>\n",
       "      <th>End</th>\n",
       "      <th>Source</th>\n",
       "      <th>Description</th>\n",
       "    </tr>\n",
       "  </thead>\n",
       "  <tbody>\n",
       "    <tr>\n",
       "      <th>18</th>\n",
       "      <td>mv89psg6zh4</td>\n",
       "      <td>33</td>\n",
       "      <td>46</td>\n",
       "      <td>clean</td>\n",
       "      <td>A bird in a sink keeps getting under the runni...</td>\n",
       "    </tr>\n",
       "    <tr>\n",
       "      <th>19</th>\n",
       "      <td>mv89psg6zh4</td>\n",
       "      <td>33</td>\n",
       "      <td>46</td>\n",
       "      <td>clean</td>\n",
       "      <td>A bird is bathing in a sink.</td>\n",
       "    </tr>\n",
       "    <tr>\n",
       "      <th>20</th>\n",
       "      <td>mv89psg6zh4</td>\n",
       "      <td>33</td>\n",
       "      <td>46</td>\n",
       "      <td>clean</td>\n",
       "      <td>A bird is splashing around under a running fau...</td>\n",
       "    </tr>\n",
       "    <tr>\n",
       "      <th>21</th>\n",
       "      <td>mv89psg6zh4</td>\n",
       "      <td>33</td>\n",
       "      <td>46</td>\n",
       "      <td>clean</td>\n",
       "      <td>A bird is bathing in a sink.</td>\n",
       "    </tr>\n",
       "    <tr>\n",
       "      <th>22</th>\n",
       "      <td>mv89psg6zh4</td>\n",
       "      <td>33</td>\n",
       "      <td>46</td>\n",
       "      <td>clean</td>\n",
       "      <td>A bird is standing in a sink drinking water th...</td>\n",
       "    </tr>\n",
       "  </tbody>\n",
       "</table>\n",
       "</div>"
      ],
      "text/plain": [
       "        VideoID  Start  End Source  \\\n",
       "18  mv89psg6zh4     33   46  clean   \n",
       "19  mv89psg6zh4     33   46  clean   \n",
       "20  mv89psg6zh4     33   46  clean   \n",
       "21  mv89psg6zh4     33   46  clean   \n",
       "22  mv89psg6zh4     33   46  clean   \n",
       "\n",
       "                                          Description  \n",
       "18  A bird in a sink keeps getting under the runni...  \n",
       "19                       A bird is bathing in a sink.  \n",
       "20  A bird is splashing around under a running fau...  \n",
       "21                       A bird is bathing in a sink.  \n",
       "22  A bird is standing in a sink drinking water th...  "
      ]
     },
     "execution_count": 8,
     "metadata": {},
     "output_type": "execute_result"
    }
   ],
   "source": [
    "video_corpus_df.head()"
   ]
  },
  {
   "cell_type": "code",
   "execution_count": 9,
   "id": "3e92c9e9-60b2-4bcf-b084-d6a80e2c45c2",
   "metadata": {},
   "outputs": [
    {
     "name": "stdout",
     "output_type": "stream",
     "text": [
      "Now we only have the videoclips which have English annotation: 85511\n"
     ]
    }
   ],
   "source": [
    "print(f\"Now we only have the videoclips which have English annotation: {len(video_corpus_df)}\")"
   ]
  },
  {
   "cell_type": "code",
   "execution_count": 10,
   "id": "ddf28a8b-45d4-48f0-bd09-913738b34429",
   "metadata": {},
   "outputs": [
    {
     "name": "stdout",
     "output_type": "stream",
     "text": [
      "There are only 1586 unique IDs present in the data (video_corpus.csv).\n"
     ]
    }
   ],
   "source": [
    "print(f\"There are only {video_corpus_df['VideoID'].nunique()} unique IDs present in the data (video_corpus.csv).\")"
   ]
  },
  {
   "cell_type": "code",
   "execution_count": 12,
   "id": "a6851075-95ad-4d93-a3a8-777aa8e9b7d7",
   "metadata": {},
   "outputs": [
    {
     "data": {
      "text/html": [
       "<div>\n",
       "<style scoped>\n",
       "    .dataframe tbody tr th:only-of-type {\n",
       "        vertical-align: middle;\n",
       "    }\n",
       "\n",
       "    .dataframe tbody tr th {\n",
       "        vertical-align: top;\n",
       "    }\n",
       "\n",
       "    .dataframe thead th {\n",
       "        text-align: right;\n",
       "    }\n",
       "</style>\n",
       "<table border=\"1\" class=\"dataframe\">\n",
       "  <thead>\n",
       "    <tr style=\"text-align: right;\">\n",
       "      <th></th>\n",
       "      <th>VideoID</th>\n",
       "      <th>Start</th>\n",
       "      <th>End</th>\n",
       "      <th>Source</th>\n",
       "      <th>Description</th>\n",
       "    </tr>\n",
       "  </thead>\n",
       "  <tbody>\n",
       "    <tr>\n",
       "      <th>18</th>\n",
       "      <td>mv89psg6zh4</td>\n",
       "      <td>33</td>\n",
       "      <td>46</td>\n",
       "      <td>clean</td>\n",
       "      <td>A bird in a sink keeps getting under the runni...</td>\n",
       "    </tr>\n",
       "    <tr>\n",
       "      <th>19</th>\n",
       "      <td>mv89psg6zh4</td>\n",
       "      <td>33</td>\n",
       "      <td>46</td>\n",
       "      <td>clean</td>\n",
       "      <td>A bird is bathing in a sink.</td>\n",
       "    </tr>\n",
       "    <tr>\n",
       "      <th>20</th>\n",
       "      <td>mv89psg6zh4</td>\n",
       "      <td>33</td>\n",
       "      <td>46</td>\n",
       "      <td>clean</td>\n",
       "      <td>A bird is splashing around under a running fau...</td>\n",
       "    </tr>\n",
       "    <tr>\n",
       "      <th>21</th>\n",
       "      <td>mv89psg6zh4</td>\n",
       "      <td>33</td>\n",
       "      <td>46</td>\n",
       "      <td>clean</td>\n",
       "      <td>A bird is bathing in a sink.</td>\n",
       "    </tr>\n",
       "    <tr>\n",
       "      <th>22</th>\n",
       "      <td>mv89psg6zh4</td>\n",
       "      <td>33</td>\n",
       "      <td>46</td>\n",
       "      <td>clean</td>\n",
       "      <td>A bird is standing in a sink drinking water th...</td>\n",
       "    </tr>\n",
       "  </tbody>\n",
       "</table>\n",
       "</div>"
      ],
      "text/plain": [
       "        VideoID  Start  End Source  \\\n",
       "18  mv89psg6zh4     33   46  clean   \n",
       "19  mv89psg6zh4     33   46  clean   \n",
       "20  mv89psg6zh4     33   46  clean   \n",
       "21  mv89psg6zh4     33   46  clean   \n",
       "22  mv89psg6zh4     33   46  clean   \n",
       "\n",
       "                                          Description  \n",
       "18  A bird in a sink keeps getting under the runni...  \n",
       "19                       A bird is bathing in a sink.  \n",
       "20  A bird is splashing around under a running fau...  \n",
       "21                       A bird is bathing in a sink.  \n",
       "22  A bird is standing in a sink drinking water th...  "
      ]
     },
     "execution_count": 12,
     "metadata": {},
     "output_type": "execute_result"
    }
   ],
   "source": [
    "video_corpus_df.head()"
   ]
  },
  {
   "cell_type": "code",
   "execution_count": 13,
   "id": "383a6f71-e421-436d-aacd-a2b4dad678c6",
   "metadata": {},
   "outputs": [],
   "source": [
    "video_corpus_df['VideoID'] = video_corpus_df['VideoID'] + '_' + video_corpus_df['Start'].astype(str) + '_' + video_corpus_df['End'].astype(str)\n",
    "video_corpus_df = video_corpus_df.drop(columns=['Start', 'End', 'Source'])"
   ]
  },
  {
   "cell_type": "code",
   "execution_count": 14,
   "id": "59f3431c-47a8-4dcd-8ebf-6cf2f5c097a7",
   "metadata": {},
   "outputs": [
    {
     "data": {
      "text/html": [
       "<div>\n",
       "<style scoped>\n",
       "    .dataframe tbody tr th:only-of-type {\n",
       "        vertical-align: middle;\n",
       "    }\n",
       "\n",
       "    .dataframe tbody tr th {\n",
       "        vertical-align: top;\n",
       "    }\n",
       "\n",
       "    .dataframe thead th {\n",
       "        text-align: right;\n",
       "    }\n",
       "</style>\n",
       "<table border=\"1\" class=\"dataframe\">\n",
       "  <thead>\n",
       "    <tr style=\"text-align: right;\">\n",
       "      <th></th>\n",
       "      <th>VideoID</th>\n",
       "      <th>Description</th>\n",
       "    </tr>\n",
       "  </thead>\n",
       "  <tbody>\n",
       "    <tr>\n",
       "      <th>18</th>\n",
       "      <td>mv89psg6zh4_33_46</td>\n",
       "      <td>A bird in a sink keeps getting under the runni...</td>\n",
       "    </tr>\n",
       "    <tr>\n",
       "      <th>19</th>\n",
       "      <td>mv89psg6zh4_33_46</td>\n",
       "      <td>A bird is bathing in a sink.</td>\n",
       "    </tr>\n",
       "    <tr>\n",
       "      <th>20</th>\n",
       "      <td>mv89psg6zh4_33_46</td>\n",
       "      <td>A bird is splashing around under a running fau...</td>\n",
       "    </tr>\n",
       "    <tr>\n",
       "      <th>21</th>\n",
       "      <td>mv89psg6zh4_33_46</td>\n",
       "      <td>A bird is bathing in a sink.</td>\n",
       "    </tr>\n",
       "    <tr>\n",
       "      <th>22</th>\n",
       "      <td>mv89psg6zh4_33_46</td>\n",
       "      <td>A bird is standing in a sink drinking water th...</td>\n",
       "    </tr>\n",
       "  </tbody>\n",
       "</table>\n",
       "</div>"
      ],
      "text/plain": [
       "              VideoID                                        Description\n",
       "18  mv89psg6zh4_33_46  A bird in a sink keeps getting under the runni...\n",
       "19  mv89psg6zh4_33_46                       A bird is bathing in a sink.\n",
       "20  mv89psg6zh4_33_46  A bird is splashing around under a running fau...\n",
       "21  mv89psg6zh4_33_46                       A bird is bathing in a sink.\n",
       "22  mv89psg6zh4_33_46  A bird is standing in a sink drinking water th..."
      ]
     },
     "execution_count": 14,
     "metadata": {},
     "output_type": "execute_result"
    }
   ],
   "source": [
    "video_corpus_df.head()"
   ]
  },
  {
   "cell_type": "code",
   "execution_count": 15,
   "id": "c871be5d-a25e-4c7e-b2e2-0ee1c7d80b62",
   "metadata": {},
   "outputs": [],
   "source": [
    "video_corpus_df.to_csv(\"data/video_corpus_english.csv\", index=False)"
   ]
  },
  {
   "cell_type": "markdown",
   "id": "24c2dcdd-4d1a-4dd5-b4c4-370a0dab0eed",
   "metadata": {},
   "source": [
    "#### Discussion over the data\n",
    "<blockquote>Now the \"video_corpus.csv\" file only has details about English annotations, and I am interested mainly in the <strong>bos</strong> and <strong>eos</strong>.</blockquote>\n",
    "<!-- <blockquote>In \"video_corpus.csv\", there are multiple annotations associated to the same video file, but as I have observed, only <strong>1586</strong> unique videos.</blockquote> -->\n",
    "<blockquote>In the downloaded directory \"YouTubeClips\", there are <strong>1970</strong> unique files.</blockquote>\n",
    "<blockquote>Other fields like \"AnnotationTime\" or \"WorkerId\" are not really relevant for my task.</blockquote>\n",
    "<blockquote>The \"Source\" column indicates if the annotation is verified or not. I have observed that the proportion of \"unverified\" data is around 60%, while the \"clean\" data around 40%. By using both the \"unverified\" and \"clean\" data, I aim to observe the robustness of the model.</blockquote>\n",
    "<blockquote>A last step before moving on to the next stage of the project, <strong>Input Preprocessing</strong>, the data should be split into training, and testing data.</blockquote>"
   ]
  },
  {
   "cell_type": "code",
   "execution_count": 11,
   "id": "0e6fe8bd-8442-463e-be01-967f5674e2ad",
   "metadata": {},
   "outputs": [],
   "source": [
    "def split_data(data = video_corpus_df, version = '1'):\n",
    "    video_corpus_train, video_corpus_test = train_test_split(video_corpus_df, test_size=0.2, random_state=42, shuffle=True)\n",
    "    \n",
    "    print(f\"Training set size: {len(video_corpus_train)}\")\n",
    "    print(f\"Testing set size: {len(video_corpus_test)}\")\n",
    "\n",
    "    video_corpus_train.to_csv(f\"data/video_corpus_train_{version}.csv\", index=False)\n",
    "    video_corpus_test.to_csv(f\"data/video_corpus_test_{version}.csv\", index=False)\n",
    "    print(f\"\\nThe data splits have been saved locally as '{version}'.\")"
   ]
  },
  {
   "cell_type": "code",
   "execution_count": 12,
   "id": "c070743b-d037-4d4a-8bbc-361498767c26",
   "metadata": {},
   "outputs": [
    {
     "name": "stdout",
     "output_type": "stream",
     "text": [
      "Training set size: 68408\n",
      "Testing set size: 17103\n",
      "\n",
      "The data splits have been saved locally as '1'.\n"
     ]
    }
   ],
   "source": [
    "split_data(data = video_corpus_df, version = '1')"
   ]
  },
  {
   "cell_type": "markdown",
   "id": "ccc367ef-8d86-402b-a3fa-1d47f84b0e3f",
   "metadata": {},
   "source": [
    "### Input Preprocessing\n",
    "<blockquote>Now that the data is loaded, I can focus on the <strong>input preprocessing</strong> step. As I have stated in the documentation, I will treat the video as a sequence of frames, but I will reduce this number of redundant frames by simply choose some key-frames and some in-between frames (capture the temporality).</blockquote>\n",
    "<blockquote>There are several ways to perform this frame extraction, like <strong>uniform sampling (fixed time interval)</strong>, <strong>scene change detection techniques</strong> or the simplest of them all, <strong>ordinary frame extraction</strong> (pick a fixed number of frames, transform the video into the sequence of frames, and keep only the specified number of frames).</blockquote>\n",
    "<blockquote>Before performing the frame extraction, an extra step of verification should be performed: is the video annotated or not?</blockquote>"
   ]
  },
  {
   "cell_type": "code",
   "execution_count": 3,
   "id": "60983e41-e550-4007-aeeb-f95adf2610de",
   "metadata": {},
   "outputs": [
    {
     "data": {
      "text/html": [
       "<div>\n",
       "<style scoped>\n",
       "    .dataframe tbody tr th:only-of-type {\n",
       "        vertical-align: middle;\n",
       "    }\n",
       "\n",
       "    .dataframe tbody tr th {\n",
       "        vertical-align: top;\n",
       "    }\n",
       "\n",
       "    .dataframe thead th {\n",
       "        text-align: right;\n",
       "    }\n",
       "</style>\n",
       "<table border=\"1\" class=\"dataframe\">\n",
       "  <thead>\n",
       "    <tr style=\"text-align: right;\">\n",
       "      <th></th>\n",
       "      <th>VideoID</th>\n",
       "      <th>Start</th>\n",
       "      <th>End</th>\n",
       "      <th>Source</th>\n",
       "      <th>Description</th>\n",
       "    </tr>\n",
       "  </thead>\n",
       "  <tbody>\n",
       "    <tr>\n",
       "      <th>0</th>\n",
       "      <td>AXL1oMdCFUM</td>\n",
       "      <td>45</td>\n",
       "      <td>59</td>\n",
       "      <td>clean</td>\n",
       "      <td>A man leads a team of oxen down a muddy path.</td>\n",
       "    </tr>\n",
       "    <tr>\n",
       "      <th>1</th>\n",
       "      <td>yFPHhRat6bc</td>\n",
       "      <td>160</td>\n",
       "      <td>210</td>\n",
       "      <td>unverified</td>\n",
       "      <td>the girl is cooking</td>\n",
       "    </tr>\n",
       "    <tr>\n",
       "      <th>2</th>\n",
       "      <td>nohvigNMsbo</td>\n",
       "      <td>199</td>\n",
       "      <td>207</td>\n",
       "      <td>clean</td>\n",
       "      <td>A woman is adding essence to corn flakes.</td>\n",
       "    </tr>\n",
       "    <tr>\n",
       "      <th>3</th>\n",
       "      <td>PECk9A-07Pw</td>\n",
       "      <td>1</td>\n",
       "      <td>9</td>\n",
       "      <td>clean</td>\n",
       "      <td>A man playing the accordion.</td>\n",
       "    </tr>\n",
       "    <tr>\n",
       "      <th>4</th>\n",
       "      <td>ymC2bNi6-Is</td>\n",
       "      <td>9</td>\n",
       "      <td>19</td>\n",
       "      <td>clean</td>\n",
       "      <td>The men are in jail.</td>\n",
       "    </tr>\n",
       "  </tbody>\n",
       "</table>\n",
       "</div>"
      ],
      "text/plain": [
       "       VideoID  Start  End      Source  \\\n",
       "0  AXL1oMdCFUM     45   59       clean   \n",
       "1  yFPHhRat6bc    160  210  unverified   \n",
       "2  nohvigNMsbo    199  207       clean   \n",
       "3  PECk9A-07Pw      1    9       clean   \n",
       "4  ymC2bNi6-Is      9   19       clean   \n",
       "\n",
       "                                     Description  \n",
       "0  A man leads a team of oxen down a muddy path.  \n",
       "1                            the girl is cooking  \n",
       "2      A woman is adding essence to corn flakes.  \n",
       "3                   A man playing the accordion.  \n",
       "4                           The men are in jail.  "
      ]
     },
     "execution_count": 3,
     "metadata": {},
     "output_type": "execute_result"
    }
   ],
   "source": [
    "video_corpus_train = pd.read_csv(\"data/video_corpus_train_1.csv\")\n",
    "video_corpus_train.head()"
   ]
  },
  {
   "cell_type": "code",
   "execution_count": 4,
   "id": "110f3cb5-6725-4731-8e10-d456381af5fa",
   "metadata": {},
   "outputs": [
    {
     "data": {
      "text/html": [
       "<div>\n",
       "<style scoped>\n",
       "    .dataframe tbody tr th:only-of-type {\n",
       "        vertical-align: middle;\n",
       "    }\n",
       "\n",
       "    .dataframe tbody tr th {\n",
       "        vertical-align: top;\n",
       "    }\n",
       "\n",
       "    .dataframe thead th {\n",
       "        text-align: right;\n",
       "    }\n",
       "</style>\n",
       "<table border=\"1\" class=\"dataframe\">\n",
       "  <thead>\n",
       "    <tr style=\"text-align: right;\">\n",
       "      <th></th>\n",
       "      <th>VideoID</th>\n",
       "      <th>Start</th>\n",
       "      <th>End</th>\n",
       "      <th>Source</th>\n",
       "      <th>Description</th>\n",
       "    </tr>\n",
       "  </thead>\n",
       "  <tbody>\n",
       "    <tr>\n",
       "      <th>0</th>\n",
       "      <td>jfrrO5K_vKM</td>\n",
       "      <td>55</td>\n",
       "      <td>65</td>\n",
       "      <td>clean</td>\n",
       "      <td>A man opens a box and shows a rifle inside.</td>\n",
       "    </tr>\n",
       "    <tr>\n",
       "      <th>1</th>\n",
       "      <td>n_Z0-giaspE</td>\n",
       "      <td>379</td>\n",
       "      <td>387</td>\n",
       "      <td>unverified</td>\n",
       "      <td>A man falls over in the road.</td>\n",
       "    </tr>\n",
       "    <tr>\n",
       "      <th>2</th>\n",
       "      <td>0hyZ__3YhZc</td>\n",
       "      <td>364</td>\n",
       "      <td>370</td>\n",
       "      <td>unverified</td>\n",
       "      <td>someone is preparing something</td>\n",
       "    </tr>\n",
       "    <tr>\n",
       "      <th>3</th>\n",
       "      <td>-_aaMGK6GGw</td>\n",
       "      <td>57</td>\n",
       "      <td>61</td>\n",
       "      <td>unverified</td>\n",
       "      <td>A man angrily pulls a teen aged boy on to the ...</td>\n",
       "    </tr>\n",
       "    <tr>\n",
       "      <th>4</th>\n",
       "      <td>bruzcOyIGeg</td>\n",
       "      <td>4</td>\n",
       "      <td>12</td>\n",
       "      <td>unverified</td>\n",
       "      <td>a person is playing with toy car</td>\n",
       "    </tr>\n",
       "  </tbody>\n",
       "</table>\n",
       "</div>"
      ],
      "text/plain": [
       "       VideoID  Start  End      Source  \\\n",
       "0  jfrrO5K_vKM     55   65       clean   \n",
       "1  n_Z0-giaspE    379  387  unverified   \n",
       "2  0hyZ__3YhZc    364  370  unverified   \n",
       "3  -_aaMGK6GGw     57   61  unverified   \n",
       "4  bruzcOyIGeg      4   12  unverified   \n",
       "\n",
       "                                         Description  \n",
       "0        A man opens a box and shows a rifle inside.  \n",
       "1                      A man falls over in the road.  \n",
       "2                     someone is preparing something  \n",
       "3  A man angrily pulls a teen aged boy on to the ...  \n",
       "4                   a person is playing with toy car  "
      ]
     },
     "execution_count": 4,
     "metadata": {},
     "output_type": "execute_result"
    }
   ],
   "source": [
    "video_corpus_test = pd.read_csv(\"data/video_corpus_test_1.csv\")\n",
    "video_corpus_test.head()"
   ]
  },
  {
   "cell_type": "code",
   "execution_count": 5,
   "id": "9f646bd3-c01f-47ac-bc8f-836eefd31228",
   "metadata": {},
   "outputs": [],
   "source": [
    "def check_file_annotations(video, video_corpus):\n",
    "    return video in video_corpus['VideoID'].values"
   ]
  },
  {
   "cell_type": "code",
   "execution_count": 6,
   "id": "65ff5c05-c6da-4094-88fa-eead5452e859",
   "metadata": {},
   "outputs": [],
   "source": [
    "def check_all(dir_path, video_corpus):\n",
    "    no_annotation_list = []\n",
    "    for file in os.listdir(dir_path):\n",
    "        video_id = \"_\".join(file.replace(\".avi\", \"\").split(\"_\")[:-2]) # get only the actual ID of the video\n",
    "        if not check_file_annotations(video_id, video_corpus):\n",
    "            no_annotation_list.append(file)\n",
    "    return no_annotation_list"
   ]
  },
  {
   "cell_type": "code",
   "execution_count": 7,
   "id": "e015faa2-a621-4d9d-b7dc-da1c5cfb3978",
   "metadata": {},
   "outputs": [],
   "source": [
    "def frame_extraction(video_path):\n",
    "    video_id = os.path.splitext(os.path.basename(video_path))[0]\n",
    "    \n",
    "    save_dir = os.path.join(\"data/Frames\", video_id)\n",
    "    os.makedirs(save_dir, exist_ok=True)\n",
    "    \n",
    "    count = 0\n",
    "    image_list = []\n",
    "    cap = cv2.VideoCapture(video_path)\n",
    "    if not cap.isOpened():\n",
    "        print(f\"Failed to open video: {video_path}\")\n",
    "    while cap.isOpened():\n",
    "        ret, frame = cap.read()\n",
    "        if ret is False:\n",
    "            break\n",
    "        frame_filename = f\"frame{count}.jpg\"\n",
    "        frame_path = os.path.join(save_dir, frame_filename)\n",
    "        cv2.imwrite(frame_path, frame)\n",
    "        image_list.append(frame_path)\n",
    "        count += 1\n",
    "\n",
    "    cap.release()\n",
    "    cv2.destroyAllWindows()\n",
    "    return image_list"
   ]
  },
  {
   "cell_type": "code",
   "execution_count": 8,
   "id": "667076c2-73f8-4f70-8e57-2c21783311ee",
   "metadata": {},
   "outputs": [],
   "source": [
    "def select_frames(method='uniform_sampling'):\n",
    "    pass"
   ]
  },
  {
   "cell_type": "code",
   "execution_count": 9,
   "id": "a48e529f-6044-448a-97b8-5a19ba251c54",
   "metadata": {
    "scrolled": true
   },
   "outputs": [
    {
     "name": "stdout",
     "output_type": "stream",
     "text": [
      "The videos which do not have any annotation training data is: ['jbzaMtPYtl8_48_58.avi']\n"
     ]
    }
   ],
   "source": [
    "to_skip = check_all('data/YouTubeClips', video_corpus_train)\n",
    "print(f\"The videos which do not have any annotation training data is: {to_skip}\")"
   ]
  },
  {
   "cell_type": "code",
   "execution_count": 10,
   "id": "ede4ae07-8470-42ad-936e-5a5179e155c7",
   "metadata": {
    "scrolled": true
   },
   "outputs": [
    {
     "name": "stdout",
     "output_type": "stream",
     "text": [
      "The videos which do not have any annotation testing data is: ['MMnnqzOoMF0_68_72.avi', 'jbzaMtPYtl8_48_58.avi']\n"
     ]
    }
   ],
   "source": [
    "to_skip = check_all('data/YouTubeClips', video_corpus_test)\n",
    "print(f\"The videos which do not have any annotation testing data is: {to_skip}\")"
   ]
  },
  {
   "cell_type": "code",
   "execution_count": 20,
   "id": "4bd942c3-e56f-4a6f-986c-78550da3cc6e",
   "metadata": {},
   "outputs": [
    {
     "name": "stdout",
     "output_type": "stream",
     "text": [
      "Double-checking the existence of the video and its corresponding annotation:\n"
     ]
    },
    {
     "data": {
      "text/html": [
       "<div>\n",
       "<style scoped>\n",
       "    .dataframe tbody tr th:only-of-type {\n",
       "        vertical-align: middle;\n",
       "    }\n",
       "\n",
       "    .dataframe tbody tr th {\n",
       "        vertical-align: top;\n",
       "    }\n",
       "\n",
       "    .dataframe thead th {\n",
       "        text-align: right;\n",
       "    }\n",
       "</style>\n",
       "<table border=\"1\" class=\"dataframe\">\n",
       "  <thead>\n",
       "    <tr style=\"text-align: right;\">\n",
       "      <th></th>\n",
       "      <th>VideoID</th>\n",
       "      <th>Start</th>\n",
       "      <th>End</th>\n",
       "      <th>Source</th>\n",
       "      <th>Description</th>\n",
       "    </tr>\n",
       "  </thead>\n",
       "  <tbody>\n",
       "  </tbody>\n",
       "</table>\n",
       "</div>"
      ],
      "text/plain": [
       "Empty DataFrame\n",
       "Columns: [VideoID, Start, End, Source, Description]\n",
       "Index: []"
      ]
     },
     "execution_count": 20,
     "metadata": {},
     "output_type": "execute_result"
    }
   ],
   "source": [
    "print(\"Double-checking the existence of the video and its corresponding annotation:\")\n",
    "video_corpus_train[video_corpus_train['VideoID'] == 'jbzaMtPYtl8']"
   ]
  },
  {
   "cell_type": "code",
   "execution_count": 21,
   "id": "512c68a2-9c11-40da-95e8-7a180bfae46c",
   "metadata": {},
   "outputs": [],
   "source": [
    "def extract_frames(video_dir=\"data/YouTubeClips\"):\n",
    "    extracted = []\n",
    "    failed = []    \n",
    "    video_files = [f for f in os.listdir(video_dir) if f.endswith(\".avi\")]\n",
    "    \n",
    "    for filename in tqdm(video_files, desc=\"Extracting frames\"):\n",
    "        if filename.endswith(\".avi\"):\n",
    "            video_path = os.path.join(video_dir, filename)\n",
    "            try:\n",
    "                frame_extraction(video_path)\n",
    "                extracted.append(filename)\n",
    "            except Exception as e:\n",
    "                failed.append(filename)\n",
    "\n",
    "    return extracted, failed"
   ]
  },
  {
   "cell_type": "code",
   "execution_count": 22,
   "id": "54bc2672-2cc6-4aa3-b3ee-1dfac3878695",
   "metadata": {
    "scrolled": true
   },
   "outputs": [
    {
     "name": "stderr",
     "output_type": "stream",
     "text": [
      "Extracting frames: 100%|████████████████████████████| 1970/1970 [25:15<00:00,  1.30it/s]\n"
     ]
    }
   ],
   "source": [
    "extracted, failed = extract_frames(\"data/YouTubeClips\")"
   ]
  },
  {
   "cell_type": "markdown",
   "id": "6ab75a0e-37db-4363-bfbc-512c2f8a5092",
   "metadata": {},
   "source": [
    "#### Discussion\n",
    "<blockquote>I have checked if there are any video files in the YouTubeClips directory which do not have any annotation associated, and I found out there is only one file which was not annotated. Since it is only one video, there is no need to handle this.</blockquote>\n",
    "<blockquote>As I was working on the frame extraction, I have observed that there are files present in the video_corpus.csv, but not in the actual downloaded directory containing the videoclips.</blockquote>\n",
    "<blockquote>Therefore, I decided to append to a list all these files which were not found in order to perform another cleaning step over my video_corpus.csv file</blockquote>\n",
    "<blockquote>The <strong>check_all</strong> method checks if there are any videos in the data (YouTubeClips) which do not actually have an annotation in the video_corpus. This method does not unveil the problem that there might be annotations for files which are not actually present in the YouTubeClips directory. This problem must be addressed.</blockquote>"
   ]
  }
 ],
 "metadata": {
  "kernelspec": {
   "display_name": "Python 3 (ipykernel)",
   "language": "python",
   "name": "python3"
  },
  "language_info": {
   "codemirror_mode": {
    "name": "ipython",
    "version": 3
   },
   "file_extension": ".py",
   "mimetype": "text/x-python",
   "name": "python",
   "nbconvert_exporter": "python",
   "pygments_lexer": "ipython3",
   "version": "3.12.3"
  }
 },
 "nbformat": 4,
 "nbformat_minor": 5
}
