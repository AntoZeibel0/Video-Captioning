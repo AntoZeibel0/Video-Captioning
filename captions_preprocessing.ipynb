{
 "cells": [
  {
   "cell_type": "code",
   "execution_count": 33,
   "id": "4a5ffa43-27df-41f3-84e9-6390bcecb3c5",
   "metadata": {},
   "outputs": [],
   "source": [
    "import os\n",
    "import pandas as pd\n",
    "import numpy as np\n",
    "import contractions\n",
    "import re\n",
    "import matplotlib.pyplot as plt\n",
    "from tensorflow.keras.preprocessing.text import Tokenizer\n",
    "from tensorflow.keras.preprocessing.sequence import pad_sequences\n",
    "import pickle\n",
    "import json"
   ]
  },
  {
   "cell_type": "code",
   "execution_count": 34,
   "id": "e385e36d-5ae2-4de5-a672-c82da962f9b1",
   "metadata": {},
   "outputs": [
    {
     "data": {
      "text/html": [
       "<div>\n",
       "<style scoped>\n",
       "    .dataframe tbody tr th:only-of-type {\n",
       "        vertical-align: middle;\n",
       "    }\n",
       "\n",
       "    .dataframe tbody tr th {\n",
       "        vertical-align: top;\n",
       "    }\n",
       "\n",
       "    .dataframe thead th {\n",
       "        text-align: right;\n",
       "    }\n",
       "</style>\n",
       "<table border=\"1\" class=\"dataframe\">\n",
       "  <thead>\n",
       "    <tr style=\"text-align: right;\">\n",
       "      <th></th>\n",
       "      <th>VideoID</th>\n",
       "      <th>Description</th>\n",
       "    </tr>\n",
       "  </thead>\n",
       "  <tbody>\n",
       "    <tr>\n",
       "      <th>0</th>\n",
       "      <td>mv89psg6zh4_33_46</td>\n",
       "      <td>A bird in a sink keeps getting under the runni...</td>\n",
       "    </tr>\n",
       "    <tr>\n",
       "      <th>1</th>\n",
       "      <td>mv89psg6zh4_33_46</td>\n",
       "      <td>A bird is bathing in a sink.</td>\n",
       "    </tr>\n",
       "    <tr>\n",
       "      <th>2</th>\n",
       "      <td>mv89psg6zh4_33_46</td>\n",
       "      <td>A bird is splashing around under a running fau...</td>\n",
       "    </tr>\n",
       "    <tr>\n",
       "      <th>3</th>\n",
       "      <td>mv89psg6zh4_33_46</td>\n",
       "      <td>A bird is bathing in a sink.</td>\n",
       "    </tr>\n",
       "    <tr>\n",
       "      <th>4</th>\n",
       "      <td>mv89psg6zh4_33_46</td>\n",
       "      <td>A bird is standing in a sink drinking water th...</td>\n",
       "    </tr>\n",
       "  </tbody>\n",
       "</table>\n",
       "</div>"
      ],
      "text/plain": [
       "             VideoID                                        Description\n",
       "0  mv89psg6zh4_33_46  A bird in a sink keeps getting under the runni...\n",
       "1  mv89psg6zh4_33_46                       A bird is bathing in a sink.\n",
       "2  mv89psg6zh4_33_46  A bird is splashing around under a running fau...\n",
       "3  mv89psg6zh4_33_46                       A bird is bathing in a sink.\n",
       "4  mv89psg6zh4_33_46  A bird is standing in a sink drinking water th..."
      ]
     },
     "execution_count": 34,
     "metadata": {},
     "output_type": "execute_result"
    }
   ],
   "source": [
    "video_df = pd.read_csv('data/video_corpus_english.csv')\n",
    "video_df.head()"
   ]
  },
  {
   "cell_type": "markdown",
   "id": "50401c4a-53bc-4792-849f-282006297292",
   "metadata": {},
   "source": [
    "### Explore the Captions\n",
    "<blockquote>Preparing the input for the next stage of the video captioning also includes preparing the acutal description of the video.</blockquote>\n",
    "<blockquote>I have to find out the <strong>maximum</strong> and <strong>mininmum</strong> length of the captions, and also the <strong>mean</strong>, prepare a vocabulary containing the top words found in the captions to exclude possible outliers.</blockquote>"
   ]
  },
  {
   "cell_type": "code",
   "execution_count": 35,
   "id": "174f3e56-c526-4282-909b-908a8eb399e9",
   "metadata": {},
   "outputs": [
    {
     "data": {
      "text/html": [
       "<div>\n",
       "<style scoped>\n",
       "    .dataframe tbody tr th:only-of-type {\n",
       "        vertical-align: middle;\n",
       "    }\n",
       "\n",
       "    .dataframe tbody tr th {\n",
       "        vertical-align: top;\n",
       "    }\n",
       "\n",
       "    .dataframe thead th {\n",
       "        text-align: right;\n",
       "    }\n",
       "</style>\n",
       "<table border=\"1\" class=\"dataframe\">\n",
       "  <thead>\n",
       "    <tr style=\"text-align: right;\">\n",
       "      <th></th>\n",
       "      <th>VideoID</th>\n",
       "      <th>Description</th>\n",
       "    </tr>\n",
       "  </thead>\n",
       "  <tbody>\n",
       "    <tr>\n",
       "      <th>49794</th>\n",
       "      <td>SKhmFSV-XB0_12_18</td>\n",
       "      <td>NaN</td>\n",
       "    </tr>\n",
       "  </tbody>\n",
       "</table>\n",
       "</div>"
      ],
      "text/plain": [
       "                 VideoID Description\n",
       "49794  SKhmFSV-XB0_12_18         NaN"
      ]
     },
     "execution_count": 35,
     "metadata": {},
     "output_type": "execute_result"
    }
   ],
   "source": [
    "video_df[~video_df['Description'].apply(lambda x: isinstance(x, str))]"
   ]
  },
  {
   "cell_type": "code",
   "execution_count": 36,
   "id": "9134a8f9-dbb9-4239-bf8b-3a3185db3564",
   "metadata": {},
   "outputs": [],
   "source": [
    "video_df = video_df.drop(index=49794)"
   ]
  },
  {
   "cell_type": "code",
   "execution_count": 37,
   "id": "316efa18-762e-4973-a544-e249521b9689",
   "metadata": {},
   "outputs": [],
   "source": [
    "def clean_description(text):\n",
    "    text = contractions.fix(text)\n",
    "    text = text.lower()\n",
    "    text = re.sub(r'[^\\w\\s]', '', text)\n",
    "    text = re.sub(r'\\d+', '', text)\n",
    "    text = re.sub(r'\\s+', ' ', text)\n",
    "    text = text.strip()\n",
    "    return f\"<bos> {text} <eos>\""
   ]
  },
  {
   "cell_type": "code",
   "execution_count": 38,
   "id": "de35bdac-44fa-4138-8932-9b132f32556f",
   "metadata": {},
   "outputs": [],
   "source": [
    "video_df['Description'] = video_df['Description'].apply(clean_description)\n",
    "video_df['TextLength'] = video_df['Description'].str.len()"
   ]
  },
  {
   "cell_type": "code",
   "execution_count": 39,
   "id": "a4dfd57c-1925-4bd7-ac9c-e46ebb378f0d",
   "metadata": {},
   "outputs": [
    {
     "name": "stdout",
     "output_type": "stream",
     "text": [
      "Max length: 712\n",
      "Min length: 15\n",
      "Mean length: 46.20\n"
     ]
    }
   ],
   "source": [
    "max_len = video_df['TextLength'].max()\n",
    "min_len = video_df['TextLength'].min()\n",
    "mean_len = video_df['TextLength'].mean()\n",
    "\n",
    "print(f\"Max length: {max_len}\")\n",
    "print(f\"Min length: {min_len}\")\n",
    "print(f\"Mean length: {mean_len:.2f}\")"
   ]
  },
  {
   "cell_type": "code",
   "execution_count": 40,
   "id": "c388690c-fe74-4024-a338-36c451b01be0",
   "metadata": {},
   "outputs": [
    {
     "data": {
      "text/html": [
       "<div>\n",
       "<style scoped>\n",
       "    .dataframe tbody tr th:only-of-type {\n",
       "        vertical-align: middle;\n",
       "    }\n",
       "\n",
       "    .dataframe tbody tr th {\n",
       "        vertical-align: top;\n",
       "    }\n",
       "\n",
       "    .dataframe thead th {\n",
       "        text-align: right;\n",
       "    }\n",
       "</style>\n",
       "<table border=\"1\" class=\"dataframe\">\n",
       "  <thead>\n",
       "    <tr style=\"text-align: right;\">\n",
       "      <th></th>\n",
       "      <th>VideoID</th>\n",
       "      <th>Description</th>\n",
       "      <th>TextLength</th>\n",
       "    </tr>\n",
       "  </thead>\n",
       "  <tbody>\n",
       "    <tr>\n",
       "      <th>0</th>\n",
       "      <td>mv89psg6zh4_33_46</td>\n",
       "      <td>&lt;bos&gt; a bird in a sink keeps getting under the...</td>\n",
       "      <td>80</td>\n",
       "    </tr>\n",
       "    <tr>\n",
       "      <th>1</th>\n",
       "      <td>mv89psg6zh4_33_46</td>\n",
       "      <td>&lt;bos&gt; a bird is bathing in a sink &lt;eos&gt;</td>\n",
       "      <td>39</td>\n",
       "    </tr>\n",
       "    <tr>\n",
       "      <th>2</th>\n",
       "      <td>mv89psg6zh4_33_46</td>\n",
       "      <td>&lt;bos&gt; a bird is splashing around under a runni...</td>\n",
       "      <td>61</td>\n",
       "    </tr>\n",
       "    <tr>\n",
       "      <th>3</th>\n",
       "      <td>mv89psg6zh4_33_46</td>\n",
       "      <td>&lt;bos&gt; a bird is bathing in a sink &lt;eos&gt;</td>\n",
       "      <td>39</td>\n",
       "    </tr>\n",
       "    <tr>\n",
       "      <th>4</th>\n",
       "      <td>mv89psg6zh4_33_46</td>\n",
       "      <td>&lt;bos&gt; a bird is standing in a sink drinking wa...</td>\n",
       "      <td>88</td>\n",
       "    </tr>\n",
       "  </tbody>\n",
       "</table>\n",
       "</div>"
      ],
      "text/plain": [
       "             VideoID                                        Description  \\\n",
       "0  mv89psg6zh4_33_46  <bos> a bird in a sink keeps getting under the...   \n",
       "1  mv89psg6zh4_33_46            <bos> a bird is bathing in a sink <eos>   \n",
       "2  mv89psg6zh4_33_46  <bos> a bird is splashing around under a runni...   \n",
       "3  mv89psg6zh4_33_46            <bos> a bird is bathing in a sink <eos>   \n",
       "4  mv89psg6zh4_33_46  <bos> a bird is standing in a sink drinking wa...   \n",
       "\n",
       "   TextLength  \n",
       "0          80  \n",
       "1          39  \n",
       "2          61  \n",
       "3          39  \n",
       "4          88  "
      ]
     },
     "execution_count": 40,
     "metadata": {},
     "output_type": "execute_result"
    }
   ],
   "source": [
    "video_df.head()"
   ]
  },
  {
   "cell_type": "code",
   "execution_count": 41,
   "id": "8e249e8e-d8e4-40fc-9506-439d14e07538",
   "metadata": {},
   "outputs": [],
   "source": [
    "tokenizer = Tokenizer(num_words=1500, oov_token='<unk>')\n",
    "tokenizer.fit_on_texts(video_df['Description'])\n",
    "sequences = tokenizer.texts_to_sequences(video_df['Description'])"
   ]
  },
  {
   "cell_type": "code",
   "execution_count": 42,
   "id": "2940ab42-3c60-4bb0-9af2-8ebb07c5bb63",
   "metadata": {},
   "outputs": [],
   "source": [
    "with open('tokenizer.pkl', 'wb') as f:\n",
    "    pickle.dump(tokenizer, f)"
   ]
  },
  {
   "cell_type": "code",
   "execution_count": 43,
   "id": "854bd0ef-a18e-448f-abd5-b7175553a9af",
   "metadata": {},
   "outputs": [],
   "source": [
    "token_lengths = [len(seq) for seq in sequences]\n",
    "video_df['TokenLength'] = token_lengths"
   ]
  },
  {
   "cell_type": "code",
   "execution_count": 44,
   "id": "6bf6074c-fcdb-42ad-890e-0baeffd86e75",
   "metadata": {},
   "outputs": [
    {
     "name": "stdout",
     "output_type": "stream",
     "text": [
      "Max token length: 139\n",
      "Min token length: 3\n",
      "Mean token length: 9.10\n",
      "90th percentile: 12\n",
      "95th percentile: 14\n"
     ]
    }
   ],
   "source": [
    "print(f\"Max token length: {np.max(token_lengths)}\")\n",
    "print(f\"Min token length: {np.min(token_lengths)}\")\n",
    "print(f\"Mean token length: {np.mean(token_lengths):.2f}\")\n",
    "print(f\"90th percentile: {np.percentile(token_lengths, 90):.0f}\")\n",
    "print(f\"95th percentile: {np.percentile(token_lengths, 95):.0f}\")"
   ]
  },
  {
   "cell_type": "code",
   "execution_count": 45,
   "id": "a22322b4-5406-4848-b8be-11685b5da259",
   "metadata": {},
   "outputs": [
    {
     "data": {
      "image/png": "[encoded data removed]",
      "text/plain": [
       "<Figure size 640x480 with 1 Axes>"
      ]
     },
     "metadata": {},
     "output_type": "display_data"
    }
   ],
   "source": [
    "plt.hist(token_lengths, bins=30, edgecolor='black')\n",
    "plt.title(\"Distribution of Token Lengths\")\n",
    "plt.xlabel(\"Number of Tokens\")\n",
    "plt.ylabel(\"Number of Captions\")\n",
    "plt.grid(True)\n",
    "plt.show()"
   ]
  },
  {
   "cell_type": "code",
   "execution_count": 46,
   "id": "8f428cf6-1125-4f2e-81e8-1e1a9c682f56",
   "metadata": {},
   "outputs": [
    {
     "data": {
      "text/html": [
       "<div>\n",
       "<style scoped>\n",
       "    .dataframe tbody tr th:only-of-type {\n",
       "        vertical-align: middle;\n",
       "    }\n",
       "\n",
       "    .dataframe tbody tr th {\n",
       "        vertical-align: top;\n",
       "    }\n",
       "\n",
       "    .dataframe thead th {\n",
       "        text-align: right;\n",
       "    }\n",
       "</style>\n",
       "<table border=\"1\" class=\"dataframe\">\n",
       "  <thead>\n",
       "    <tr style=\"text-align: right;\">\n",
       "      <th></th>\n",
       "      <th>VideoID</th>\n",
       "      <th>Description</th>\n",
       "      <th>TextLength</th>\n",
       "      <th>TokenLength</th>\n",
       "    </tr>\n",
       "  </thead>\n",
       "  <tbody>\n",
       "    <tr>\n",
       "      <th>0</th>\n",
       "      <td>mv89psg6zh4_33_46</td>\n",
       "      <td>&lt;bos&gt; a bird in a sink keeps getting under the...</td>\n",
       "      <td>80</td>\n",
       "      <td>16</td>\n",
       "    </tr>\n",
       "    <tr>\n",
       "      <th>1</th>\n",
       "      <td>mv89psg6zh4_33_46</td>\n",
       "      <td>&lt;bos&gt; a bird is bathing in a sink &lt;eos&gt;</td>\n",
       "      <td>39</td>\n",
       "      <td>9</td>\n",
       "    </tr>\n",
       "    <tr>\n",
       "      <th>2</th>\n",
       "      <td>mv89psg6zh4_33_46</td>\n",
       "      <td>&lt;bos&gt; a bird is splashing around under a runni...</td>\n",
       "      <td>61</td>\n",
       "      <td>11</td>\n",
       "    </tr>\n",
       "    <tr>\n",
       "      <th>3</th>\n",
       "      <td>mv89psg6zh4_33_46</td>\n",
       "      <td>&lt;bos&gt; a bird is bathing in a sink &lt;eos&gt;</td>\n",
       "      <td>39</td>\n",
       "      <td>9</td>\n",
       "    </tr>\n",
       "    <tr>\n",
       "      <th>4</th>\n",
       "      <td>mv89psg6zh4_33_46</td>\n",
       "      <td>&lt;bos&gt; a bird is standing in a sink drinking wa...</td>\n",
       "      <td>88</td>\n",
       "      <td>18</td>\n",
       "    </tr>\n",
       "  </tbody>\n",
       "</table>\n",
       "</div>"
      ],
      "text/plain": [
       "             VideoID                                        Description  \\\n",
       "0  mv89psg6zh4_33_46  <bos> a bird in a sink keeps getting under the...   \n",
       "1  mv89psg6zh4_33_46            <bos> a bird is bathing in a sink <eos>   \n",
       "2  mv89psg6zh4_33_46  <bos> a bird is splashing around under a runni...   \n",
       "3  mv89psg6zh4_33_46            <bos> a bird is bathing in a sink <eos>   \n",
       "4  mv89psg6zh4_33_46  <bos> a bird is standing in a sink drinking wa...   \n",
       "\n",
       "   TextLength  TokenLength  \n",
       "0          80           16  \n",
       "1          39            9  \n",
       "2          61           11  \n",
       "3          39            9  \n",
       "4          88           18  "
      ]
     },
     "execution_count": 46,
     "metadata": {},
     "output_type": "execute_result"
    }
   ],
   "source": [
    "video_df.head()"
   ]
  },
  {
   "cell_type": "code",
   "execution_count": 47,
   "id": "b8be5155-8d81-4e2d-acef-cd01c5677fdd",
   "metadata": {},
   "outputs": [],
   "source": [
    "MAXLEN = 15\n",
    "MINLEN = 5\n",
    "video_df = video_df[(video_df['TokenLength'] >= MINLEN) & (video_df['TokenLength'] <= MAXLEN)]"
   ]
  },
  {
   "cell_type": "code",
   "execution_count": 48,
   "id": "56dccea8-3e81-433b-8547-cc9a342b83fc",
   "metadata": {},
   "outputs": [],
   "source": [
    "sequences = tokenizer.texts_to_sequences(video_df['Description'])\n",
    "padded_sequences = pad_sequences(sequences, maxlen=MAXLEN, padding='post', truncating='post')"
   ]
  },
  {
   "cell_type": "code",
   "execution_count": 49,
   "id": "00133713-e805-49df-b2aa-3a7fb346b7f9",
   "metadata": {},
   "outputs": [],
   "source": [
    "video_df['PaddedSequence'] = list(padded_sequences)"
   ]
  },
  {
   "cell_type": "code",
   "execution_count": 50,
   "id": "f8701d5e-125a-49b1-9603-ccb59a7f52f6",
   "metadata": {},
   "outputs": [
    {
     "data": {
      "text/html": [
       "<div>\n",
       "<style scoped>\n",
       "    .dataframe tbody tr th:only-of-type {\n",
       "        vertical-align: middle;\n",
       "    }\n",
       "\n",
       "    .dataframe tbody tr th {\n",
       "        vertical-align: top;\n",
       "    }\n",
       "\n",
       "    .dataframe thead th {\n",
       "        text-align: right;\n",
       "    }\n",
       "</style>\n",
       "<table border=\"1\" class=\"dataframe\">\n",
       "  <thead>\n",
       "    <tr style=\"text-align: right;\">\n",
       "      <th></th>\n",
       "      <th>VideoID</th>\n",
       "      <th>Description</th>\n",
       "      <th>TextLength</th>\n",
       "      <th>TokenLength</th>\n",
       "      <th>PaddedSequence</th>\n",
       "    </tr>\n",
       "  </thead>\n",
       "  <tbody>\n",
       "    <tr>\n",
       "      <th>1</th>\n",
       "      <td>mv89psg6zh4_33_46</td>\n",
       "      <td>&lt;bos&gt; a bird is bathing in a sink &lt;eos&gt;</td>\n",
       "      <td>39</td>\n",
       "      <td>9</td>\n",
       "      <td>[3, 2, 253, 5, 554, 9, 2, 465, 4, 0, 0, 0, 0, ...</td>\n",
       "    </tr>\n",
       "    <tr>\n",
       "      <th>2</th>\n",
       "      <td>mv89psg6zh4_33_46</td>\n",
       "      <td>&lt;bos&gt; a bird is splashing around under a runni...</td>\n",
       "      <td>61</td>\n",
       "      <td>11</td>\n",
       "      <td>[3, 2, 253, 5, 1, 81, 318, 2, 47, 903, 4, 0, 0...</td>\n",
       "    </tr>\n",
       "    <tr>\n",
       "      <th>3</th>\n",
       "      <td>mv89psg6zh4_33_46</td>\n",
       "      <td>&lt;bos&gt; a bird is bathing in a sink &lt;eos&gt;</td>\n",
       "      <td>39</td>\n",
       "      <td>9</td>\n",
       "      <td>[3, 2, 253, 5, 554, 9, 2, 465, 4, 0, 0, 0, 0, ...</td>\n",
       "    </tr>\n",
       "    <tr>\n",
       "      <th>5</th>\n",
       "      <td>mv89psg6zh4_33_46</td>\n",
       "      <td>&lt;bos&gt; a faucet is running while a bird stands ...</td>\n",
       "      <td>69</td>\n",
       "      <td>14</td>\n",
       "      <td>[3, 2, 903, 5, 47, 90, 2, 253, 1087, 9, 6, 465...</td>\n",
       "    </tr>\n",
       "    <tr>\n",
       "      <th>6</th>\n",
       "      <td>mv89psg6zh4_33_46</td>\n",
       "      <td>&lt;bos&gt; a bird is playing in a sink with running...</td>\n",
       "      <td>58</td>\n",
       "      <td>12</td>\n",
       "      <td>[3, 2, 253, 5, 11, 9, 2, 465, 15, 47, 32, 4, 0...</td>\n",
       "    </tr>\n",
       "  </tbody>\n",
       "</table>\n",
       "</div>"
      ],
      "text/plain": [
       "             VideoID                                        Description  \\\n",
       "1  mv89psg6zh4_33_46            <bos> a bird is bathing in a sink <eos>   \n",
       "2  mv89psg6zh4_33_46  <bos> a bird is splashing around under a runni...   \n",
       "3  mv89psg6zh4_33_46            <bos> a bird is bathing in a sink <eos>   \n",
       "5  mv89psg6zh4_33_46  <bos> a faucet is running while a bird stands ...   \n",
       "6  mv89psg6zh4_33_46  <bos> a bird is playing in a sink with running...   \n",
       "\n",
       "   TextLength  TokenLength                                     PaddedSequence  \n",
       "1          39            9  [3, 2, 253, 5, 554, 9, 2, 465, 4, 0, 0, 0, 0, ...  \n",
       "2          61           11  [3, 2, 253, 5, 1, 81, 318, 2, 47, 903, 4, 0, 0...  \n",
       "3          39            9  [3, 2, 253, 5, 554, 9, 2, 465, 4, 0, 0, 0, 0, ...  \n",
       "5          69           14  [3, 2, 903, 5, 47, 90, 2, 253, 1087, 9, 6, 465...  \n",
       "6          58           12  [3, 2, 253, 5, 11, 9, 2, 465, 15, 47, 32, 4, 0...  "
      ]
     },
     "execution_count": 50,
     "metadata": {},
     "output_type": "execute_result"
    }
   ],
   "source": [
    "video_df.head()"
   ]
  },
  {
   "cell_type": "code",
   "execution_count": 51,
   "id": "63759716-d7ea-4b15-ad48-4678374566f1",
   "metadata": {},
   "outputs": [
    {
     "name": "stdout",
     "output_type": "stream",
     "text": [
      "Token Length:\n",
      "Max length: 15\n",
      "Min length: 5\n",
      "Mean length: 8.75\n"
     ]
    }
   ],
   "source": [
    "max_len = video_df['TokenLength'].max()\n",
    "min_len = video_df['TokenLength'].min()\n",
    "mean_len = video_df['TokenLength'].mean()\n",
    "\n",
    "print(\"Token Length:\")\n",
    "print(f\"Max length: {max_len}\")\n",
    "print(f\"Min length: {min_len}\")\n",
    "print(f\"Mean length: {mean_len:.2f}\")"
   ]
  },
  {
   "cell_type": "code",
   "execution_count": 52,
   "id": "6dce09ce-5d3d-4041-be10-0bcd346b4e97",
   "metadata": {},
   "outputs": [],
   "source": [
    "def check_len(text):\n",
    "    return len(text)"
   ]
  },
  {
   "cell_type": "code",
   "execution_count": 53,
   "id": "3b134b77-be07-4a17-8f6b-3c19bde8b0fd",
   "metadata": {},
   "outputs": [],
   "source": [
    "video_df['PSLength'] = video_df['PaddedSequence'].apply(check_len)"
   ]
  },
  {
   "cell_type": "code",
   "execution_count": 54,
   "id": "47078500-e1f1-4a27-9dba-1a2011425b16",
   "metadata": {},
   "outputs": [
    {
     "data": {
      "text/html": [
       "<div>\n",
       "<style scoped>\n",
       "    .dataframe tbody tr th:only-of-type {\n",
       "        vertical-align: middle;\n",
       "    }\n",
       "\n",
       "    .dataframe tbody tr th {\n",
       "        vertical-align: top;\n",
       "    }\n",
       "\n",
       "    .dataframe thead th {\n",
       "        text-align: right;\n",
       "    }\n",
       "</style>\n",
       "<table border=\"1\" class=\"dataframe\">\n",
       "  <thead>\n",
       "    <tr style=\"text-align: right;\">\n",
       "      <th></th>\n",
       "      <th>VideoID</th>\n",
       "      <th>Description</th>\n",
       "      <th>TextLength</th>\n",
       "      <th>TokenLength</th>\n",
       "      <th>PaddedSequence</th>\n",
       "      <th>PSLength</th>\n",
       "    </tr>\n",
       "  </thead>\n",
       "  <tbody>\n",
       "    <tr>\n",
       "      <th>1</th>\n",
       "      <td>mv89psg6zh4_33_46</td>\n",
       "      <td>&lt;bos&gt; a bird is bathing in a sink &lt;eos&gt;</td>\n",
       "      <td>39</td>\n",
       "      <td>9</td>\n",
       "      <td>[3, 2, 253, 5, 554, 9, 2, 465, 4, 0, 0, 0, 0, ...</td>\n",
       "      <td>15</td>\n",
       "    </tr>\n",
       "    <tr>\n",
       "      <th>2</th>\n",
       "      <td>mv89psg6zh4_33_46</td>\n",
       "      <td>&lt;bos&gt; a bird is splashing around under a runni...</td>\n",
       "      <td>61</td>\n",
       "      <td>11</td>\n",
       "      <td>[3, 2, 253, 5, 1, 81, 318, 2, 47, 903, 4, 0, 0...</td>\n",
       "      <td>15</td>\n",
       "    </tr>\n",
       "    <tr>\n",
       "      <th>3</th>\n",
       "      <td>mv89psg6zh4_33_46</td>\n",
       "      <td>&lt;bos&gt; a bird is bathing in a sink &lt;eos&gt;</td>\n",
       "      <td>39</td>\n",
       "      <td>9</td>\n",
       "      <td>[3, 2, 253, 5, 554, 9, 2, 465, 4, 0, 0, 0, 0, ...</td>\n",
       "      <td>15</td>\n",
       "    </tr>\n",
       "    <tr>\n",
       "      <th>5</th>\n",
       "      <td>mv89psg6zh4_33_46</td>\n",
       "      <td>&lt;bos&gt; a faucet is running while a bird stands ...</td>\n",
       "      <td>69</td>\n",
       "      <td>14</td>\n",
       "      <td>[3, 2, 903, 5, 47, 90, 2, 253, 1087, 9, 6, 465...</td>\n",
       "      <td>15</td>\n",
       "    </tr>\n",
       "    <tr>\n",
       "      <th>6</th>\n",
       "      <td>mv89psg6zh4_33_46</td>\n",
       "      <td>&lt;bos&gt; a bird is playing in a sink with running...</td>\n",
       "      <td>58</td>\n",
       "      <td>12</td>\n",
       "      <td>[3, 2, 253, 5, 11, 9, 2, 465, 15, 47, 32, 4, 0...</td>\n",
       "      <td>15</td>\n",
       "    </tr>\n",
       "  </tbody>\n",
       "</table>\n",
       "</div>"
      ],
      "text/plain": [
       "             VideoID                                        Description  \\\n",
       "1  mv89psg6zh4_33_46            <bos> a bird is bathing in a sink <eos>   \n",
       "2  mv89psg6zh4_33_46  <bos> a bird is splashing around under a runni...   \n",
       "3  mv89psg6zh4_33_46            <bos> a bird is bathing in a sink <eos>   \n",
       "5  mv89psg6zh4_33_46  <bos> a faucet is running while a bird stands ...   \n",
       "6  mv89psg6zh4_33_46  <bos> a bird is playing in a sink with running...   \n",
       "\n",
       "   TextLength  TokenLength                                     PaddedSequence  \\\n",
       "1          39            9  [3, 2, 253, 5, 554, 9, 2, 465, 4, 0, 0, 0, 0, ...   \n",
       "2          61           11  [3, 2, 253, 5, 1, 81, 318, 2, 47, 903, 4, 0, 0...   \n",
       "3          39            9  [3, 2, 253, 5, 554, 9, 2, 465, 4, 0, 0, 0, 0, ...   \n",
       "5          69           14  [3, 2, 903, 5, 47, 90, 2, 253, 1087, 9, 6, 465...   \n",
       "6          58           12  [3, 2, 253, 5, 11, 9, 2, 465, 15, 47, 32, 4, 0...   \n",
       "\n",
       "   PSLength  \n",
       "1        15  \n",
       "2        15  \n",
       "3        15  \n",
       "5        15  \n",
       "6        15  "
      ]
     },
     "execution_count": 54,
     "metadata": {},
     "output_type": "execute_result"
    }
   ],
   "source": [
    "video_df.head()"
   ]
  },
  {
   "cell_type": "code",
   "execution_count": 55,
   "id": "c350c282-ee0a-4cdf-a9f0-a0f885973642",
   "metadata": {},
   "outputs": [
    {
     "name": "stdout",
     "output_type": "stream",
     "text": [
      "<class 'pandas.core.series.Series'>\n"
     ]
    }
   ],
   "source": [
    "seq = video_df['PaddedSequence']\n",
    "print(type(seq))"
   ]
  },
  {
   "cell_type": "code",
   "execution_count": 56,
   "id": "bc34f7fc-06a9-4593-8d83-95a1217933c6",
   "metadata": {},
   "outputs": [
    {
     "name": "stdout",
     "output_type": "stream",
     "text": [
      "Padded Sequence Length:\n",
      "Max length: 15\n",
      "Min length: 15\n",
      "Mean length: 15.00\n"
     ]
    }
   ],
   "source": [
    "max_len = video_df['PSLength'].max()\n",
    "min_len = video_df['PSLength'].min()\n",
    "mean_len = video_df['PSLength'].mean()\n",
    "\n",
    "print(\"Padded Sequence Length:\")\n",
    "print(f\"Max length: {max_len}\")\n",
    "print(f\"Min length: {min_len}\")\n",
    "print(f\"Mean length: {mean_len:.2f}\")"
   ]
  },
  {
   "cell_type": "code",
   "execution_count": 57,
   "id": "1b01eb69-55d0-4805-8258-d42ca3771d7c",
   "metadata": {},
   "outputs": [],
   "source": [
    "video_df = video_df.drop(columns = ['TokenLength','PSLength','TextLength'], axis=1)"
   ]
  },
  {
   "cell_type": "code",
   "execution_count": 58,
   "id": "3dcc8203-3a05-4128-8dc3-7d35348595c0",
   "metadata": {},
   "outputs": [
    {
     "name": "stdout",
     "output_type": "stream",
     "text": [
      "Total number of rows in the video English corpus: 82242\n"
     ]
    }
   ],
   "source": [
    "print(f\"Total number of rows in the video English corpus: {len(video_df)}\")"
   ]
  },
  {
   "cell_type": "code",
   "execution_count": 60,
   "id": "ffdae4a7-b74e-42e1-82ca-15087cb150ea",
   "metadata": {},
   "outputs": [],
   "source": [
    "# video_df.to_csv(\"data/final_video_corpus.csv\", index=False)\n",
    "video_df['PaddedSequence'] = video_df['PaddedSequence'].apply(lambda x: json.dumps(x.tolist()))\n",
    "video_df.to_csv('data/final_video_corpus.csv', index=False)"
   ]
  },
  {
   "cell_type": "code",
   "execution_count": 29,
   "id": "87551410-04d8-4d8d-84c5-b99c56ca06ae",
   "metadata": {},
   "outputs": [
    {
     "data": {
      "text/plain": [
       "13293"
      ]
     },
     "execution_count": 29,
     "metadata": {},
     "output_type": "execute_result"
    }
   ],
   "source": [
    "num_decoder_tokens = len(tokenizer.word_index) + 1\n",
    "num_decoder_tokens"
   ]
  }
 ],
 "metadata": {
  "kernelspec": {
   "display_name": "Python 3 (ipykernel)",
   "language": "python",
   "name": "python3"
  },
  "language_info": {
   "codemirror_mode": {
    "name": "ipython",
    "version": 3
   },
   "file_extension": ".py",
   "mimetype": "text/x-python",
   "name": "python",
   "nbconvert_exporter": "python",
   "pygments_lexer": "ipython3",
   "version": "3.12.3"
  }
 },
 "nbformat": 4,
 "nbformat_minor": 5
}
